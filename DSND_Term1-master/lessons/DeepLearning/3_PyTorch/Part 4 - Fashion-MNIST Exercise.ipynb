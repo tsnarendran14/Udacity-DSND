{
 "cells": [
  {
   "cell_type": "markdown",
   "metadata": {},
   "source": [
    "# Classifying Fashion-MNIST\n",
    "\n",
    "Now it's your turn to build and train a neural network. You'll be using the [Fashion-MNIST dataset](https://github.com/zalandoresearch/fashion-mnist), a drop-in replacement for the MNIST dataset. MNIST is actually quite trivial with neural networks where you can easily achieve better than 97% accuracy. Fashion-MNIST is a set of 28x28 greyscale images of clothes. It's more complex than MNIST, so it's a better representation of the actual performance of your network, and a better representation of datasets you'll use in the real world.\n",
    "\n",
    "<img src='assets/fashion-mnist-sprite.png' width=500px>\n",
    "\n",
    "In this notebook, you'll build your own neural network. For the most part, you could just copy and paste the code from Part 3, but you wouldn't be learning. It's important for you to write the code yourself and get it to work. Feel free to consult the previous notebook though as you work through this.\n",
    "\n",
    "First off, let's load the dataset through torchvision."
   ]
  },
  {
   "cell_type": "code",
   "execution_count": 1,
   "metadata": {},
   "outputs": [],
   "source": [
    "import torch\n",
    "from torchvision import datasets, transforms\n",
    "import helper\n",
    "\n",
    "# Define a transform to normalize the data\n",
    "transform = transforms.Compose([transforms.ToTensor(),\n",
    "                                transforms.Normalize((0.5, 0.5, 0.5), (0.5, 0.5, 0.5))])\n",
    "# Download and load the training data\n",
    "trainset = datasets.FashionMNIST('F_MNIST_data/', download=True, train=True, transform=transform)\n",
    "trainloader = torch.utils.data.DataLoader(trainset, batch_size=64, shuffle=True)\n",
    "\n",
    "# Download and load the test data\n",
    "testset = datasets.FashionMNIST('F_MNIST_data/', download=True, train=False, transform=transform)\n",
    "testloader = torch.utils.data.DataLoader(testset, batch_size=64, shuffle=True)"
   ]
  },
  {
   "cell_type": "markdown",
   "metadata": {},
   "source": [
    "Here we can see one of the images."
   ]
  },
  {
   "cell_type": "code",
   "execution_count": 2,
   "metadata": {},
   "outputs": [
    {
     "data": {
      "image/png": "[encoded data removed]",
      "text/plain": [
       "<matplotlib.figure.Figure at 0x7fcc9c756780>"
      ]
     },
     "metadata": {},
     "output_type": "display_data"
    }
   ],
   "source": [
    "image, label = next(iter(trainloader))\n",
    "helper.imshow(image[0,:]);"
   ]
  },
  {
   "cell_type": "markdown",
   "metadata": {},
   "source": [
    "With the data loaded, it's time to import the necessary packages."
   ]
  },
  {
   "cell_type": "code",
   "execution_count": 3,
   "metadata": {},
   "outputs": [],
   "source": [
    "%matplotlib inline\n",
    "%config InlineBackend.figure_format = 'retina'\n",
    "\n",
    "import matplotlib.pyplot as plt\n",
    "import numpy as np\n",
    "import time\n",
    "\n",
    "import torch\n",
    "from torch import nn\n",
    "from torch import optim\n",
    "import torch.nn.functional as F\n",
    "from torchvision import datasets, transforms\n",
    "\n",
    "import helper"
   ]
  },
  {
   "cell_type": "markdown",
   "metadata": {},
   "source": [
    "## Building the network\n",
    "\n",
    "Here you should define your network. As with MNIST, each image is 28x28 which is a total of 784 pixels, and there are 10 classes. You should include at least one hidden layer. We suggest you use ReLU activations for the layers and to return the logits from the forward pass. It's up to you how many layers you add and the size of those layers."
   ]
  },
  {
   "cell_type": "code",
   "execution_count": 4,
   "metadata": {},
   "outputs": [
    {
     "name": "stdout",
     "output_type": "stream",
     "text": [
      "Sequential(\n",
      "  (0): Linear(in_features=784, out_features=400, bias=True)\n",
      "  (1): ReLU()\n",
      "  (2): Linear(in_features=400, out_features=200, bias=True)\n",
      "  (3): ReLU()\n",
      "  (4): Linear(in_features=200, out_features=10, bias=True)\n",
      "  (5): Softmax()\n",
      ")\n"
     ]
    }
   ],
   "source": [
    "# TODO: Define your network architecture here\\\n",
    "input_size = 784\n",
    "output_size = 10\n",
    "\n",
    "model = nn.Sequential(\n",
    "    nn.Linear(input_size, 400),\n",
    "    nn.ReLU(),\n",
    "    nn.Linear(400,200),\n",
    "    nn.ReLU(),\n",
    "    nn.Linear(200, output_size),\n",
    "    nn.Softmax(dim=1)\n",
    ")\n",
    "\n",
    "print(model)"
   ]
  },
  {
   "cell_type": "markdown",
   "metadata": {},
   "source": [
    "# Train the network\n",
    "\n",
    "Now you should create your network and train it. First you'll want to define [the criterion](http://pytorch.org/docs/master/nn.html#loss-functions) ( something like `nn.CrossEntropyLoss`) and [the optimizer](http://pytorch.org/docs/master/optim.html) (typically `optim.SGD` or `optim.Adam`).\n",
    "\n",
    "Then write the training code. Remember the training pass is a fairly straightforward process:\n",
    "\n",
    "* Make a forward pass through the network to get the logits \n",
    "* Use the logits to calculate the loss\n",
    "* Perform a backward pass through the network with `loss.backward()` to calculate the gradients\n",
    "* Take a step with the optimizer to update the weights\n",
    "\n",
    "By adjusting the hyperparameters (hidden units, learning rate, etc), you should be able to get the training loss below 0.4."
   ]
  },
  {
   "cell_type": "code",
   "execution_count": 5,
   "metadata": {},
   "outputs": [],
   "source": [
    "# TODO: Create the network, define the criterion and optimizer\n",
    "criterion = nn.CrossEntropyLoss()\n",
    "optimizer = optim.SGD(model.parameters(), lr=0.1)"
   ]
  },
  {
   "cell_type": "code",
   "execution_count": 6,
   "metadata": {
    "scrolled": true
   },
   "outputs": [
    {
     "name": "stdout",
     "output_type": "stream",
     "text": [
      "Epoch: 1/3... Loss: 0.0570\n",
      "Epoch: 1/3... Loss: 0.0543\n",
      "Epoch: 1/3... Loss: 0.0519\n",
      "Epoch: 1/3... Loss: 0.0464\n",
      "Epoch: 1/3... Loss: 0.0465\n",
      "Epoch: 1/3... Loss: 0.0468\n",
      "Epoch: 1/3... Loss: 0.0433\n",
      "Epoch: 1/3... Loss: 0.0425\n",
      "Epoch: 1/3... Loss: 0.0434\n",
      "Epoch: 1/3... Loss: 0.0439\n",
      "Epoch: 1/3... Loss: 0.0436\n",
      "Epoch: 1/3... Loss: 0.0434\n",
      "Epoch: 1/3... Loss: 0.0417\n",
      "Epoch: 1/3... Loss: 0.0416\n",
      "Epoch: 1/3... Loss: 0.0410\n",
      "Epoch: 1/3... Loss: 0.0424\n",
      "Epoch: 1/3... Loss: 0.0410\n",
      "Epoch: 1/3... Loss: 0.0420\n",
      "Epoch: 1/3... Loss: 0.0429\n",
      "Epoch: 1/3... Loss: 0.0420\n",
      "Epoch: 1/3... Loss: 0.0431\n",
      "Epoch: 1/3... Loss: 0.0427\n",
      "Epoch: 1/3... Loss: 0.0413\n",
      "Epoch: 2/3... Loss: 0.0432\n",
      "Epoch: 2/3... Loss: 0.0417\n",
      "Epoch: 2/3... Loss: 0.0417\n",
      "Epoch: 2/3... Loss: 0.0436\n",
      "Epoch: 2/3... Loss: 0.0412\n",
      "Epoch: 2/3... Loss: 0.0403\n",
      "Epoch: 2/3... Loss: 0.0411\n",
      "Epoch: 2/3... Loss: 0.0403\n",
      "Epoch: 2/3... Loss: 0.0438\n",
      "Epoch: 2/3... Loss: 0.0435\n",
      "Epoch: 2/3... Loss: 0.0447\n",
      "Epoch: 2/3... Loss: 0.0411\n",
      "Epoch: 2/3... Loss: 0.0426\n",
      "Epoch: 2/3... Loss: 0.0418\n",
      "Epoch: 2/3... Loss: 0.0396\n",
      "Epoch: 2/3... Loss: 0.0419\n",
      "Epoch: 2/3... Loss: 0.0407\n",
      "Epoch: 2/3... Loss: 0.0429\n",
      "Epoch: 2/3... Loss: 0.0392\n",
      "Epoch: 2/3... Loss: 0.0422\n",
      "Epoch: 2/3... Loss: 0.0425\n",
      "Epoch: 2/3... Loss: 0.0423\n",
      "Epoch: 2/3... Loss: 0.0436\n",
      "Epoch: 3/3... Loss: 0.0409\n",
      "Epoch: 3/3... Loss: 0.0419\n",
      "Epoch: 3/3... Loss: 0.0407\n",
      "Epoch: 3/3... Loss: 0.0410\n",
      "Epoch: 3/3... Loss: 0.0420\n",
      "Epoch: 3/3... Loss: 0.0418\n",
      "Epoch: 3/3... Loss: 0.0423\n",
      "Epoch: 3/3... Loss: 0.0398\n",
      "Epoch: 3/3... Loss: 0.0431\n",
      "Epoch: 3/3... Loss: 0.0418\n",
      "Epoch: 3/3... Loss: 0.0411\n",
      "Epoch: 3/3... Loss: 0.0421\n",
      "Epoch: 3/3... Loss: 0.0428\n",
      "Epoch: 3/3... Loss: 0.0398\n",
      "Epoch: 3/3... Loss: 0.0410\n",
      "Epoch: 3/3... Loss: 0.0423\n",
      "Epoch: 3/3... Loss: 0.0410\n",
      "Epoch: 3/3... Loss: 0.0402\n",
      "Epoch: 3/3... Loss: 0.0437\n",
      "Epoch: 3/3... Loss: 0.0407\n",
      "Epoch: 3/3... Loss: 0.0414\n",
      "Epoch: 3/3... Loss: 0.0434\n",
      "Epoch: 3/3... Loss: 0.0422\n",
      "Epoch: 3/3... Loss: 0.0425\n"
     ]
    }
   ],
   "source": [
    "# TODO: Train the network here\n",
    "\n",
    "epochs = 3\n",
    "print_every = 40\n",
    "steps = 0\n",
    "\n",
    "for e in range(epochs):\n",
    "    running_loss = 0\n",
    "    for images, labels in trainloader:\n",
    "        steps += 1\n",
    "        images.resize_(images.shape[0], 784)\n",
    "        \n",
    "        optimizer.zero_grad()\n",
    "        \n",
    "        output = model.forward(images)\n",
    "        loss = criterion(output, labels)\n",
    "        \n",
    "        loss.backward()\n",
    "        \n",
    "        optimizer.step()\n",
    "        \n",
    "        running_loss += loss.item()\n",
    "        \n",
    "        if steps % print_every == 0:\n",
    "            print(\"Epoch: {}/{}...\".format(e+1, epochs),\"Loss: {:.4f}\".format(running_loss/print_every))\\\n",
    "            \n",
    "        running_loss = 0"
   ]
  },
  {
   "cell_type": "code",
   "execution_count": 7,
   "metadata": {},
   "outputs": [
    {
     "data": {
      "image/png": "[encoded data removed]",
      "text/plain": [
       "<matplotlib.figure.Figure at 0x7fcc96d6b748>"
      ]
     },
     "metadata": {
      "image/png": {
       "height": 204,
       "width": 423
      }
     },
     "output_type": "display_data"
    }
   ],
   "source": [
    "# Test out your network!\n",
    "\n",
    "dataiter = iter(testloader)\n",
    "images, labels = dataiter.next()\n",
    "img = images[0]\n",
    "# Convert 2D image to 1D vector\n",
    "img = img.resize_(1, 784)\n",
    "\n",
    "with torch.no_grad():\n",
    "    logits = model.forward(img)\n",
    "\n",
    "# TODO: Calculate the class probabilities (softmax) for img\n",
    "ps = F.softmax(logits, dim=1)\n",
    "\n",
    "# Plot the image and probabilities\n",
    "helper.view_classify(img.resize_(1, 28, 28), ps, version='Fashion')"
   ]
  },
  {
   "cell_type": "markdown",
   "metadata": {},
   "source": [
    "Now that your network is trained, you'll want to save it to disk so you can load it later instead of training it again. Obviously, it's impractical to train a network every time you need one. In practice, you'll train it once, save the model, then reload it for further training or making predictions. In the next part, I'll show you how to save and load trained models."
   ]
  }
 ],
 "metadata": {
  "kernelspec": {
   "display_name": "Python 3",
   "language": "python",
   "name": "python3"
  },
  "language_info": {
   "codemirror_mode": {
    "name": "ipython",
    "version": 3
   },
   "file_extension": ".py",
   "mimetype": "text/x-python",
   "name": "python",
   "nbconvert_exporter": "python",
   "pygments_lexer": "ipython3",
   "version": "3.6.3"
  }
 },
 "nbformat": 4,
 "nbformat_minor": 2
}
